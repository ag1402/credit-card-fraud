{
 "cells": [
  {
   "cell_type": "markdown",
   "id": "d2cc9de94919a58",
   "metadata": {},
   "source": [
    "# 194.045 Data Stewardship UE (2025S)\n",
    "\n",
    "This exemplary Jupyter notebooks should help you get going with Part 2. Further Python help is available on [PyPI](https://pypi.org/project/dbrepo/) or the [documentation](https://www.ifs.tuwien.ac.at/infrastructures/dbrepo/1.7/python/guide/rest-client.html) website.\n",
    "\n",
    "## 1 Deposit Dataset\n",
    "\n",
    "Navigate to the DBRepo Test Instance https://test.dbrepo.tuwien.ac.at and login with your TU account.\n",
    "\n",
    "Create a database with the UI by clicking the \"+ Database\" button and typing a name. Click \"Create\" once you're done.\n",
    "\n",
    "<img src=\".help/1_create_database.png\" style=\"max-width: 1024\" alt=\"\" />\n",
    "\n",
    "Navigate to \"Create Table\" and give your table a name and description. It is **important** to set both Transparency and Insights to \"Visible\" to make your dataset publicly visible. Set the structure information (most CSV datasets have a top row with column names) and separator (usually comma `,`). Select your dataset to upload and click \"Upload & Analyse\".\n",
    "\n",
    "<img src=\".help/2_create_table.png\" style=\"max-width: 1024\" alt=\"\" />\n",
    "\n",
    "Once the upload is finished, the DBRepo suggests column data types and constraints (e.g. column is allowed to have `NULL` value). Select at least 1 column that is a primary key (must be non-`NULL`, unique in value). These are usually called something-`id`ish. Then click \"Continue\". Wait for the table creation and click \"Import Data\".\n",
    "\n",
    "On the next page, finally import the data by clicking the button \"Import\", the structure  and dataset is filled from the previous step. In case of an import error, set the separator according to your CSV.\n",
    "\n",
    "<img src=\".help/4_import_data.png\" style=\"max-width: 1024\" alt=\"\" />\n",
    "\n",
    "## 2 Create Subset\n",
    "\n",
    "Now that you have uploaded your dataset, it is time to create a meaningful subset that can be used for analysis. Select the columns and use at least 1 filter condition and 1 sorting condition. Click \"Create\" when you want to create the subset.\n",
    "\n",
    "<img src=\".help/5_create_subset.png\" style=\"max-width: 1024\" alt=\"\" />\n",
    "\n",
    "Finally, mark your subset to be visible in the UI by clicking the \"Star\" button. Click \"Get PID\" and create a PID similar to InvenioRDM."
   ]
  },
  {
   "cell_type": "markdown",
   "id": "b959064cbbf05702",
   "metadata": {},
   "source": [
    "## 3 Get Data\n",
    "\n",
    "Install the dependencies from the requirements.txt file."
   ]
  },
  {
   "cell_type": "code",
   "execution_count": 1,
   "id": "6992ca0f-05d8-4cd4-9b54-d3e2d299b2be",
   "metadata": {},
   "outputs": [
    {
     "name": "stdout",
     "output_type": "stream",
     "text": [
      "Collecting dbrepo==1.7.3 (from -r requirements.txt (line 1))\n",
      "  Downloading dbrepo-1.7.3-py3-none-any.whl.metadata (17 kB)\n",
      "Requirement already satisfied: requests>=2.31 in c:\\users\\ajdin\\appdata\\local\\programs\\python\\python313\\lib\\site-packages (from dbrepo==1.7.3->-r requirements.txt (line 1)) (2.32.3)\n",
      "Collecting pika (from dbrepo==1.7.3->-r requirements.txt (line 1))\n",
      "  Downloading pika-1.3.2-py3-none-any.whl.metadata (13 kB)\n",
      "Collecting pydantic (from dbrepo==1.7.3->-r requirements.txt (line 1))\n",
      "  Downloading pydantic-2.11.3-py3-none-any.whl.metadata (65 kB)\n",
      "Collecting tuspy (from dbrepo==1.7.3->-r requirements.txt (line 1))\n",
      "  Downloading tuspy-1.1.0-py3-none-any.whl.metadata (4.2 kB)\n",
      "Requirement already satisfied: pandas in c:\\users\\ajdin\\appdata\\local\\programs\\python\\python313\\lib\\site-packages (from dbrepo==1.7.3->-r requirements.txt (line 1)) (2.2.3)\n",
      "Requirement already satisfied: charset-normalizer<4,>=2 in c:\\users\\ajdin\\appdata\\local\\programs\\python\\python313\\lib\\site-packages (from requests>=2.31->dbrepo==1.7.3->-r requirements.txt (line 1)) (3.4.0)\n",
      "Requirement already satisfied: idna<4,>=2.5 in c:\\users\\ajdin\\appdata\\local\\programs\\python\\python313\\lib\\site-packages (from requests>=2.31->dbrepo==1.7.3->-r requirements.txt (line 1)) (3.10)\n",
      "Requirement already satisfied: urllib3<3,>=1.21.1 in c:\\users\\ajdin\\appdata\\local\\programs\\python\\python313\\lib\\site-packages (from requests>=2.31->dbrepo==1.7.3->-r requirements.txt (line 1)) (2.2.3)\n",
      "Requirement already satisfied: certifi>=2017.4.17 in c:\\users\\ajdin\\appdata\\local\\programs\\python\\python313\\lib\\site-packages (from requests>=2.31->dbrepo==1.7.3->-r requirements.txt (line 1)) (2024.8.30)\n",
      "Requirement already satisfied: numpy>=1.26.0 in c:\\users\\ajdin\\appdata\\local\\programs\\python\\python313\\lib\\site-packages (from pandas->dbrepo==1.7.3->-r requirements.txt (line 1)) (2.1.3)\n",
      "Requirement already satisfied: python-dateutil>=2.8.2 in c:\\users\\ajdin\\appdata\\local\\programs\\python\\python313\\lib\\site-packages (from pandas->dbrepo==1.7.3->-r requirements.txt (line 1)) (2.9.0.post0)\n",
      "Requirement already satisfied: pytz>=2020.1 in c:\\users\\ajdin\\appdata\\local\\programs\\python\\python313\\lib\\site-packages (from pandas->dbrepo==1.7.3->-r requirements.txt (line 1)) (2024.2)\n",
      "Requirement already satisfied: tzdata>=2022.7 in c:\\users\\ajdin\\appdata\\local\\programs\\python\\python313\\lib\\site-packages (from pandas->dbrepo==1.7.3->-r requirements.txt (line 1)) (2024.2)\n",
      "Collecting annotated-types>=0.6.0 (from pydantic->dbrepo==1.7.3->-r requirements.txt (line 1))\n",
      "  Downloading annotated_types-0.7.0-py3-none-any.whl.metadata (15 kB)\n",
      "Collecting pydantic-core==2.33.1 (from pydantic->dbrepo==1.7.3->-r requirements.txt (line 1))\n",
      "  Downloading pydantic_core-2.33.1-cp313-cp313-win_amd64.whl.metadata (6.9 kB)\n",
      "Requirement already satisfied: typing-extensions>=4.12.2 in c:\\users\\ajdin\\appdata\\local\\programs\\python\\python313\\lib\\site-packages (from pydantic->dbrepo==1.7.3->-r requirements.txt (line 1)) (4.12.2)\n",
      "Collecting typing-inspection>=0.4.0 (from pydantic->dbrepo==1.7.3->-r requirements.txt (line 1))\n",
      "  Downloading typing_inspection-0.4.0-py3-none-any.whl.metadata (2.6 kB)\n",
      "Collecting tinydb>=3.5.0 (from tuspy->dbrepo==1.7.3->-r requirements.txt (line 1))\n",
      "  Downloading tinydb-4.8.2-py3-none-any.whl.metadata (6.7 kB)\n",
      "Collecting aiohttp>=3.6.2 (from tuspy->dbrepo==1.7.3->-r requirements.txt (line 1))\n",
      "  Downloading aiohttp-3.11.18-cp313-cp313-win_amd64.whl.metadata (8.0 kB)\n",
      "Collecting aiohappyeyeballs>=2.3.0 (from aiohttp>=3.6.2->tuspy->dbrepo==1.7.3->-r requirements.txt (line 1))\n",
      "  Downloading aiohappyeyeballs-2.6.1-py3-none-any.whl.metadata (5.9 kB)\n",
      "Collecting aiosignal>=1.1.2 (from aiohttp>=3.6.2->tuspy->dbrepo==1.7.3->-r requirements.txt (line 1))\n",
      "  Downloading aiosignal-1.3.2-py2.py3-none-any.whl.metadata (3.8 kB)\n",
      "Requirement already satisfied: attrs>=17.3.0 in c:\\users\\ajdin\\appdata\\local\\programs\\python\\python313\\lib\\site-packages (from aiohttp>=3.6.2->tuspy->dbrepo==1.7.3->-r requirements.txt (line 1)) (24.2.0)\n",
      "Collecting frozenlist>=1.1.1 (from aiohttp>=3.6.2->tuspy->dbrepo==1.7.3->-r requirements.txt (line 1))\n",
      "  Downloading frozenlist-1.6.0-cp313-cp313-win_amd64.whl.metadata (16 kB)\n",
      "Collecting multidict<7.0,>=4.5 (from aiohttp>=3.6.2->tuspy->dbrepo==1.7.3->-r requirements.txt (line 1))\n",
      "  Downloading multidict-6.4.3-cp313-cp313-win_amd64.whl.metadata (5.5 kB)\n",
      "Collecting propcache>=0.2.0 (from aiohttp>=3.6.2->tuspy->dbrepo==1.7.3->-r requirements.txt (line 1))\n",
      "  Downloading propcache-0.3.1-cp313-cp313-win_amd64.whl.metadata (11 kB)\n",
      "Collecting yarl<2.0,>=1.17.0 (from aiohttp>=3.6.2->tuspy->dbrepo==1.7.3->-r requirements.txt (line 1))\n",
      "  Downloading yarl-1.20.0-cp313-cp313-win_amd64.whl.metadata (74 kB)\n",
      "Requirement already satisfied: six>=1.5 in c:\\users\\ajdin\\appdata\\local\\programs\\python\\python313\\lib\\site-packages (from python-dateutil>=2.8.2->pandas->dbrepo==1.7.3->-r requirements.txt (line 1)) (1.16.0)\n",
      "Downloading dbrepo-1.7.3-py3-none-any.whl (31 kB)\n",
      "Downloading pika-1.3.2-py3-none-any.whl (155 kB)\n",
      "Downloading pydantic-2.11.3-py3-none-any.whl (443 kB)\n",
      "Downloading pydantic_core-2.33.1-cp313-cp313-win_amd64.whl (2.0 MB)\n",
      "   ---------------------------------------- 0.0/2.0 MB ? eta -:--:--\n",
      "   ---------------------------------------- 2.0/2.0 MB 18.6 MB/s eta 0:00:00\n",
      "Downloading tuspy-1.1.0-py3-none-any.whl (15 kB)\n",
      "Downloading aiohttp-3.11.18-cp313-cp313-win_amd64.whl (437 kB)\n",
      "Downloading annotated_types-0.7.0-py3-none-any.whl (13 kB)\n",
      "Downloading tinydb-4.8.2-py3-none-any.whl (24 kB)\n",
      "Downloading typing_inspection-0.4.0-py3-none-any.whl (14 kB)\n",
      "Downloading aiohappyeyeballs-2.6.1-py3-none-any.whl (15 kB)\n",
      "Downloading aiosignal-1.3.2-py2.py3-none-any.whl (7.6 kB)\n",
      "Downloading frozenlist-1.6.0-cp313-cp313-win_amd64.whl (119 kB)\n",
      "Downloading multidict-6.4.3-cp313-cp313-win_amd64.whl (38 kB)\n",
      "Downloading propcache-0.3.1-cp313-cp313-win_amd64.whl (44 kB)\n",
      "Downloading yarl-1.20.0-cp313-cp313-win_amd64.whl (92 kB)\n",
      "Installing collected packages: typing-inspection, tinydb, pydantic-core, propcache, pika, multidict, frozenlist, annotated-types, aiohappyeyeballs, yarl, pydantic, aiosignal, aiohttp, tuspy, dbrepo\n",
      "Successfully installed aiohappyeyeballs-2.6.1 aiohttp-3.11.18 aiosignal-1.3.2 annotated-types-0.7.0 dbrepo-1.7.3 frozenlist-1.6.0 multidict-6.4.3 pika-1.3.2 propcache-0.3.1 pydantic-2.11.3 pydantic-core-2.33.1 tinydb-4.8.2 tuspy-1.1.0 typing-inspection-0.4.0 yarl-1.20.0\n"
     ]
    },
    {
     "name": "stderr",
     "output_type": "stream",
     "text": [
      "\n",
      "[notice] A new release of pip is available: 24.2 -> 25.1\n",
      "[notice] To update, run: python.exe -m pip install --upgrade pip\n"
     ]
    }
   ],
   "source": [
    "!pip install -r requirements.txt"
   ]
  },
  {
   "cell_type": "markdown",
   "id": "fbb7f2a8ad465201",
   "metadata": {},
   "source": [
    "Get the data from your persisted subset by the PID:"
   ]
  },
  {
   "cell_type": "code",
   "execution_count": 5,
   "id": "b41b70d5c83f67d8",
   "metadata": {},
   "outputs": [],
   "source": [
    "from dbrepo.RestClient import RestClient\n",
    "client = RestClient(endpoint=\"https://test.dbrepo.tuwien.ac.at\", username=\"12433699\", password=\"Ajdina14+\")\n",
    "#df = client.get_identifier_data(identifier_id=\"7a647061-faf8-4c7d-9e1b-58432dd0aa22\")\n",
    "df_train = client.get_identifier_data(\n",
    "  identifier_id=\"d020b222-851a-45ad-a5ad-6b88fd77baf8\"\n",
    ")\n",
    "df_valid = client.get_identifier_data(identifier_id=\"6517a989-d4b2-4eb1-9909-278dde12521b\")\n",
    "df_test  = client.get_identifier_data(identifier_id=\"87e780fa-55bc-4156-8e7b-3c56633db625\")"
   ]
  },
  {
   "cell_type": "code",
   "execution_count": 6,
   "id": "5451ab98-38eb-4776-b104-6e7bf423d9d1",
   "metadata": {},
   "outputs": [
    {
     "name": "stdout",
     "output_type": "stream",
     "text": [
      "Train: (2152, 12)\n",
      "Valid: (461, 12)\n",
      "Test:  (462, 12)\n"
     ]
    }
   ],
   "source": [
    "print(\"Train:\", df_train.shape)\n",
    "print(\"Valid:\", df_valid.shape)\n",
    "print(\"Test: \", df_test.shape)\n"
   ]
  },
  {
   "cell_type": "code",
   "execution_count": 9,
   "id": "82f79359-911d-473a-8739-9e263c8088a8",
   "metadata": {},
   "outputs": [
    {
     "name": "stdout",
     "output_type": "stream",
     "text": [
      "set() set() set()\n"
     ]
    }
   ],
   "source": [
    "#check for overfitting\n",
    "# none of the actionnr in train should appear in valid/test\n",
    "common_tv = set(df_train['actionnr']).intersection(df_valid['actionnr'])\n",
    "common_tt = set(df_train['actionnr']).intersection(df_test['actionnr'])\n",
    "common_vt = set(df_valid['actionnr']).intersection(df_test['actionnr'])\n",
    "print(common_tv, common_tt, common_vt)  # each should be empty set()\n"
   ]
  },
  {
   "cell_type": "markdown",
   "id": "9e3de692-2487-4880-8661-8f02fbffd5b1",
   "metadata": {},
   "source": [
    "## Help!\n",
    "\n",
    "If you cannot login to the DBRepo Test Instance or have weird error messages you cannot figure out on your own, contact [martin.weise@tuwien.ac.at](mailto:martin.weise@tuwien.ac.at)."
   ]
  },
  {
   "cell_type": "markdown",
   "id": "4bc5212a-63a3-4830-a429-fef6be1392a7",
   "metadata": {},
   "source": [
    "## Notebook"
   ]
  },
  {
   "cell_type": "code",
   "execution_count": 21,
   "id": "518a5cc4-03d7-4aa7-8f5c-594b6fd1d721",
   "metadata": {},
   "outputs": [
    {
     "name": "stdout",
     "output_type": "stream",
     "text": [
      "(3075, 12)\n"
     ]
    },
    {
     "data": {
      "text/html": [
       "<div>\n",
       "<style scoped>\n",
       "    .dataframe tbody tr th:only-of-type {\n",
       "        vertical-align: middle;\n",
       "    }\n",
       "\n",
       "    .dataframe tbody tr th {\n",
       "        vertical-align: top;\n",
       "    }\n",
       "\n",
       "    .dataframe thead th {\n",
       "        text-align: right;\n",
       "    }\n",
       "</style>\n",
       "<table border=\"1\" class=\"dataframe\">\n",
       "  <thead>\n",
       "    <tr style=\"text-align: right;\">\n",
       "      <th></th>\n",
       "      <th>actionnr</th>\n",
       "      <th>merchant_id</th>\n",
       "      <th>average_amount_transaction_day</th>\n",
       "      <th>transaction_amount</th>\n",
       "      <th>is_declined</th>\n",
       "      <th>total_number_of_declines_day</th>\n",
       "      <th>isforeigntransaction</th>\n",
       "      <th>ishighriskcountry</th>\n",
       "      <th>daily_chargeback_avg_amt</th>\n",
       "      <th>sixmonth_avg_chbk_amt</th>\n",
       "      <th>sixmonth_chbk_freq</th>\n",
       "      <th>isfradulent</th>\n",
       "    </tr>\n",
       "  </thead>\n",
       "  <tbody>\n",
       "    <tr>\n",
       "      <th>0</th>\n",
       "      <td>1</td>\n",
       "      <td>3160040998</td>\n",
       "      <td>100.0</td>\n",
       "      <td>3000.0</td>\n",
       "      <td>N</td>\n",
       "      <td>5</td>\n",
       "      <td>Y</td>\n",
       "      <td>Y</td>\n",
       "      <td>0</td>\n",
       "      <td>0.0</td>\n",
       "      <td>0</td>\n",
       "      <td>Y</td>\n",
       "    </tr>\n",
       "    <tr>\n",
       "      <th>1</th>\n",
       "      <td>2</td>\n",
       "      <td>3160040998</td>\n",
       "      <td>100.0</td>\n",
       "      <td>4300.0</td>\n",
       "      <td>N</td>\n",
       "      <td>5</td>\n",
       "      <td>Y</td>\n",
       "      <td>Y</td>\n",
       "      <td>0</td>\n",
       "      <td>0.0</td>\n",
       "      <td>0</td>\n",
       "      <td>Y</td>\n",
       "    </tr>\n",
       "    <tr>\n",
       "      <th>2</th>\n",
       "      <td>3</td>\n",
       "      <td>3160041896</td>\n",
       "      <td>185.5</td>\n",
       "      <td>4823.0</td>\n",
       "      <td>Y</td>\n",
       "      <td>5</td>\n",
       "      <td>N</td>\n",
       "      <td>N</td>\n",
       "      <td>0</td>\n",
       "      <td>0.0</td>\n",
       "      <td>0</td>\n",
       "      <td>Y</td>\n",
       "    </tr>\n",
       "    <tr>\n",
       "      <th>3</th>\n",
       "      <td>4</td>\n",
       "      <td>3160141996</td>\n",
       "      <td>185.5</td>\n",
       "      <td>5008.5</td>\n",
       "      <td>Y</td>\n",
       "      <td>8</td>\n",
       "      <td>N</td>\n",
       "      <td>N</td>\n",
       "      <td>0</td>\n",
       "      <td>0.0</td>\n",
       "      <td>0</td>\n",
       "      <td>Y</td>\n",
       "    </tr>\n",
       "    <tr>\n",
       "      <th>4</th>\n",
       "      <td>5</td>\n",
       "      <td>3160241992</td>\n",
       "      <td>500.0</td>\n",
       "      <td>26000.0</td>\n",
       "      <td>N</td>\n",
       "      <td>0</td>\n",
       "      <td>Y</td>\n",
       "      <td>Y</td>\n",
       "      <td>800</td>\n",
       "      <td>677.2</td>\n",
       "      <td>6</td>\n",
       "      <td>Y</td>\n",
       "    </tr>\n",
       "  </tbody>\n",
       "</table>\n",
       "</div>"
      ],
      "text/plain": [
       "   actionnr  merchant_id  average_amount_transaction_day  transaction_amount  \\\n",
       "0         1   3160040998                           100.0              3000.0   \n",
       "1         2   3160040998                           100.0              4300.0   \n",
       "2         3   3160041896                           185.5              4823.0   \n",
       "3         4   3160141996                           185.5              5008.5   \n",
       "4         5   3160241992                           500.0             26000.0   \n",
       "\n",
       "  is_declined  total_number_of_declines_day isforeigntransaction  \\\n",
       "0           N                             5                    Y   \n",
       "1           N                             5                    Y   \n",
       "2           Y                             5                    N   \n",
       "3           Y                             8                    N   \n",
       "4           N                             0                    Y   \n",
       "\n",
       "  ishighriskcountry  daily_chargeback_avg_amt  sixmonth_avg_chbk_amt  \\\n",
       "0                 Y                         0                    0.0   \n",
       "1                 Y                         0                    0.0   \n",
       "2                 N                         0                    0.0   \n",
       "3                 N                         0                    0.0   \n",
       "4                 Y                       800                  677.2   \n",
       "\n",
       "   sixmonth_chbk_freq isfradulent  \n",
       "0                   0           Y  \n",
       "1                   0           Y  \n",
       "2                   0           Y  \n",
       "3                   0           Y  \n",
       "4                   6           Y  "
      ]
     },
     "execution_count": 21,
     "metadata": {},
     "output_type": "execute_result"
    }
   ],
   "source": [
    "import pandas as pd\n",
    "\n",
    "# Load directly from the current directory\n",
    "df = pd.read_csv('credit_card.csv')\n",
    "print(df.shape)\n",
    "df.head()\n"
   ]
  },
  {
   "cell_type": "code",
   "execution_count": 24,
   "id": "9025da5f-9d9c-4060-ba2c-0db773593628",
   "metadata": {},
   "outputs": [],
   "source": [
    "# Identify the columns you don’t want as features\n",
    "id_col    = 'actionnr'\n",
    "label_col = 'isfradulent'\n"
   ]
  },
  {
   "cell_type": "code",
   "execution_count": 23,
   "id": "1e9cd25e-7f71-4377-9691-624bbea4f194",
   "metadata": {},
   "outputs": [
    {
     "name": "stdout",
     "output_type": "stream",
     "text": [
      "['actionnr', 'merchant_id', 'average_amount_transaction_day', 'transaction_amount', 'is_declined', 'total_number_of_declines_day', 'isforeigntransaction', 'ishighriskcountry', 'daily_chargeback_avg_amt', 'sixmonth_avg_chbk_amt', 'sixmonth_chbk_freq', 'isfradulent']\n"
     ]
    }
   ],
   "source": [
    "# Show all column names so we pick the correct label\n",
    "print(df.columns.tolist())\n"
   ]
  },
  {
   "cell_type": "code",
   "execution_count": 25,
   "id": "d83d3825-2b6a-4dc5-abff-da53275ac563",
   "metadata": {},
   "outputs": [],
   "source": [
    "# X: all columns except the ID and the label\n",
    "X = df.drop([id_col, label_col], axis=1)\n",
    "\n",
    "# y: the label\n",
    "y = df[label_col]\n"
   ]
  },
  {
   "cell_type": "markdown",
   "id": "13f22540-34a6-4f78-9def-a1b69c6292b0",
   "metadata": {},
   "source": [
    "#Train Test Split"
   ]
  },
  {
   "cell_type": "code",
   "execution_count": 26,
   "id": "86a4637a-9073-4ed7-83f7-fff536d65b0b",
   "metadata": {},
   "outputs": [],
   "source": [
    "from sklearn.model_selection import train_test_split\n",
    "\n",
    "X_train, X_test, y_train, y_test = train_test_split(\n",
    "    X, y,\n",
    "    test_size=0.30,\n",
    "    random_state=42,\n",
    "    stratify=y\n",
    ")\n"
   ]
  },
  {
   "cell_type": "code",
   "execution_count": 28,
   "id": "0850ed82-14e9-42cf-ac13-29586fdfafae",
   "metadata": {},
   "outputs": [
    {
     "name": "stdout",
     "output_type": "stream",
     "text": [
      "average_amount_transaction_day    float64\n",
      "transaction_amount                float64\n",
      "is_declined                         int64\n",
      "total_number_of_declines_day        int64\n",
      "isforeigntransaction                int64\n",
      "ishighriskcountry                   int64\n",
      "daily_chargeback_avg_amt            int64\n",
      "sixmonth_avg_chbk_amt             float64\n",
      "sixmonth_chbk_freq                  int64\n",
      "isfradulent                         int64\n",
      "dtype: object\n"
     ]
    }
   ],
   "source": [
    "# --- Preprocessing cell ---\n",
    "\n",
    "# Map Y/N columns to 0/1\n",
    "bool_cols = [\n",
    "    'is_declined',\n",
    "    'isforeigntransaction',\n",
    "    'ishighriskcountry',\n",
    "    'isfradulent'        # also map the label here\n",
    "]\n",
    "for col in bool_cols:\n",
    "    df[col] = df[col].map({'Y': 1, 'N': 0})\n",
    "\n",
    "# Drop identifier columns you won't train on\n",
    "df = df.drop(['actionnr', 'merchant_id'], axis=1)\n",
    "\n",
    "# Verify everything is now numeric\n",
    "print(df.dtypes)\n"
   ]
  },
  {
   "cell_type": "code",
   "execution_count": 29,
   "id": "bc7e0476-7756-41e8-b1f6-125376da01ec",
   "metadata": {},
   "outputs": [
    {
     "name": "stdout",
     "output_type": "stream",
     "text": [
      "=== Classification Report ===\n",
      "              precision    recall  f1-score   support\n",
      "\n",
      "           0       0.99      1.00      0.99       789\n",
      "           1       0.98      0.95      0.97       134\n",
      "\n",
      "    accuracy                           0.99       923\n",
      "   macro avg       0.99      0.97      0.98       923\n",
      "weighted avg       0.99      0.99      0.99       923\n",
      "\n"
     ]
    },
    {
     "data": {
      "image/png": "[encoded data removed]",
      "text/plain": [
       "<Figure size 640x480 with 2 Axes>"
      ]
     },
     "metadata": {},
     "output_type": "display_data"
    }
   ],
   "source": [
    "# Step 4.x: Split, train, and evaluate on the cleaned data\n",
    "\n",
    "from sklearn.model_selection import train_test_split\n",
    "from sklearn.ensemble import RandomForestClassifier\n",
    "from sklearn.metrics import classification_report, ConfusionMatrixDisplay\n",
    "import matplotlib.pyplot as plt\n",
    "\n",
    "# 1) Build features X and label y\n",
    "X = df.drop('isfradulent', axis=1)\n",
    "y = df['isfradulent']\n",
    "\n",
    "# 2) Split into train/test\n",
    "X_train, X_test, y_train, y_test = train_test_split(\n",
    "    X, y,\n",
    "    test_size=0.30,\n",
    "    random_state=42,\n",
    "    stratify=y\n",
    ")\n",
    "\n",
    "# 3) Train the RandomForest\n",
    "clf = RandomForestClassifier(n_estimators=100, max_depth=10, random_state=42)\n",
    "clf.fit(X_train, y_train)\n",
    "\n",
    "# 4) Print performance\n",
    "print(\"=== Classification Report ===\")\n",
    "print(classification_report(y_test, clf.predict(X_test)))\n",
    "\n",
    "# 5) Show confusion matrix\n",
    "ConfusionMatrixDisplay.from_estimator(clf, X_test, y_test)\n",
    "plt.title(\"Confusion Matrix\")\n",
    "plt.show()\n"
   ]
  },
  {
   "cell_type": "markdown",
   "id": "589a4a9c-5623-415c-a03e-fee2ea48f7fd",
   "metadata": {},
   "source": [
    "## Serialize model & save outputs\n"
   ]
  },
  {
   "cell_type": "code",
   "execution_count": 30,
   "id": "6dbd426e-0603-4fe1-a0a1-e326afc56b9e",
   "metadata": {},
   "outputs": [
    {
     "name": "stdout",
     "output_type": "stream",
     "text": [
      "✔ Model saved to rf_model_v1.joblib\n",
      "✔ Confusion matrix saved\n",
      "✔ ROC curve saved\n",
      "✔ Predictions saved to predictions.csv\n"
     ]
    },
    {
     "data": {
      "image/png": "[encoded data removed]",
      "text/plain": [
       "<Figure size 640x480 with 2 Axes>"
      ]
     },
     "metadata": {},
     "output_type": "display_data"
    },
    {
     "data": {
      "image/png": "[encoded data removed]",
      "text/plain": [
       "<Figure size 640x480 with 1 Axes>"
      ]
     },
     "metadata": {},
     "output_type": "display_data"
    }
   ],
   "source": [
    "import joblib, matplotlib.pyplot as plt\n",
    "from sklearn.metrics import ConfusionMatrixDisplay, roc_curve, auc\n",
    "import pandas as pd\n",
    "\n",
    "# 1) Serialize your trained classifier (`clf`)\n",
    "model_path = \"rf_model_v1.joblib\"\n",
    "joblib.dump(clf, model_path)\n",
    "print(\"✔ Model saved to\", model_path)\n",
    "\n",
    "# 2) Save confusion matrix plot\n",
    "fig, ax = plt.subplots()\n",
    "ConfusionMatrixDisplay.from_estimator(clf, X_test, y_test, ax=ax)\n",
    "plt.title(\"Confusion Matrix\")\n",
    "fig.savefig(\"confusion_matrix.png\")\n",
    "print(\"✔ Confusion matrix saved\")\n",
    "\n",
    "# 3) Save ROC curve plot\n",
    "y_score = clf.predict_proba(X_test)[:,1]\n",
    "fpr, tpr, _ = roc_curve(y_test, y_score)\n",
    "roc_auc = auc(fpr, tpr)\n",
    "plt.figure()\n",
    "plt.plot(fpr, tpr)\n",
    "plt.plot([0,1],[0,1], linestyle='--')\n",
    "plt.title(f\"ROC Curve (AUC = {roc_auc:.2f})\")\n",
    "plt.xlabel(\"False Positive Rate\")\n",
    "plt.ylabel(\"True Positive Rate\")\n",
    "plt.savefig(\"roc_curve.png\")\n",
    "print(\"✔ ROC curve saved\")\n",
    "\n",
    "# 4) Save predictions to CSV\n",
    "preds = pd.DataFrame({\n",
    "    \"actionnr\":   X_test.index,\n",
    "    \"true\":       y_test,\n",
    "    \"predicted\":  clf.predict(X_test),\n",
    "    \"score\":      y_score\n",
    "})\n",
    "preds.to_csv(\"predictions.csv\", index=False)\n",
    "print(\"✔ Predictions saved to predictions.csv\")\n"
   ]
  },
  {
   "cell_type": "code",
   "execution_count": 31,
   "id": "8dcdc032-2f13-4531-bad8-1dffb7fa2154",
   "metadata": {},
   "outputs": [],
   "source": [
    "import os\n",
    "\n",
    "os.environ[\"TUWRD_USER\"] = \"e12433699\"\n",
    "os.environ[\"TUWRD_PW\"]   = \"Ajdina14\"\n"
   ]
  },
  {
   "cell_type": "code",
   "execution_count": 32,
   "id": "39055a7f-563f-4660-8a0a-5760adb449c9",
   "metadata": {},
   "outputs": [],
   "source": [
    "import requests, json, os\n",
    "\n",
    "def upload_to_tuwrd(title, description, creators, license_url, file_paths):\n",
    "    # 1) Create record\n",
    "    md = {\n",
    "      \"title\":       title,\n",
    "      \"description\": description,\n",
    "      \"creators\":    creators,\n",
    "      \"license\":     license_url,\n",
    "      \"keywords\":    [\"creditcard\",\"fraud\",\"randomforest\"]\n",
    "    }\n",
    "    r = requests.post(\n",
    "      \"https://test.researchdata.tuwien.ac.at/api/v1/records\",\n",
    "      auth=(os.environ[\"TUWRD_USER\"], os.environ[\"TUWRD_PW\"]),\n",
    "      headers={\"Content-Type\":\"application/json\"},\n",
    "      data=json.dumps(md)\n",
    "    )\n",
    "    r.raise_for_status()\n",
    "    rec = r.json()\n",
    "    pid = rec[\"identifier\"]  # may also appear under rec[\"id\"]\n",
    "    print(\"➤ Created TUWRD record:\", pid)\n",
    "\n",
    "    # 2) Upload files\n",
    "    for path in file_paths:\n",
    "        with open(path, \"rb\") as fp:\n",
    "            files = {\"file\": (os.path.basename(path), fp)}\n",
    "            up = requests.post(\n",
    "              f\"https://test.researchdata.tuwien.ac.at/api/v1/records/{rec['id']}/files\",\n",
    "              auth=(os.environ[\"TUWRD_USER\"], os.environ[\"TUWRD_PW\"]),\n",
    "              files=files\n",
    "            )\n",
    "            up.raise_for_status()\n",
    "            print(\"  • Uploaded\", os.path.basename(path))\n",
    "    return pid\n"
   ]
  },
  {
   "cell_type": "code",
   "execution_count": null,
   "id": "f13298e8-a933-4582-b2cf-d3bdeef016f3",
   "metadata": {},
   "outputs": [],
   "source": []
  }
 ],
 "metadata": {
  "kernelspec": {
   "display_name": "Python 3 (ipykernel)",
   "language": "python",
   "name": "python3"
  },
  "language_info": {
   "codemirror_mode": {
    "name": "ipython",
    "version": 3
   },
   "file_extension": ".py",
   "mimetype": "text/x-python",
   "name": "python",
   "nbconvert_exporter": "python",
   "pygments_lexer": "ipython3",
   "version": "3.13.0"
  }
 },
 "nbformat": 4,
 "nbformat_minor": 5
}
