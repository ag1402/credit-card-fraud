{
 "cells": [
  {
   "cell_type": "markdown",
   "id": "d2cc9de94919a58",
   "metadata": {},
   "source": [
    "# 194.045 Data Stewardship UE (2025S)\n",
    "\n",
    "This exemplary Jupyter notebooks should help you get going with Part 2. Further Python help is available on [PyPI](https://pypi.org/project/dbrepo/) or the [documentation](https://www.ifs.tuwien.ac.at/infrastructures/dbrepo/1.7/python/guide/rest-client.html) website.\n",
    "\n",
    "## 1 Deposit Dataset\n",
    "\n",
    "Navigate to the DBRepo Test Instance https://test.dbrepo.tuwien.ac.at and login with your TU account.\n",
    "\n",
    "Create a database with the UI by clicking the \"+ Database\" button and typing a name. Click \"Create\" once you're done.\n",
    "\n",
    "<img src=\".help/1_create_database.png\" style=\"max-width: 1024\" alt=\"\" />\n",
    "\n",
    "Navigate to \"Create Table\" and give your table a name and description. It is **important** to set both Transparency and Insights to \"Visible\" to make your dataset publicly visible. Set the structure information (most CSV datasets have a top row with column names) and separator (usually comma `,`). Select your dataset to upload and click \"Upload & Analyse\".\n",
    "\n",
    "<img src=\".help/2_create_table.png\" style=\"max-width: 1024\" alt=\"\" />\n",
    "\n",
    "Once the upload is finished, the DBRepo suggests column data types and constraints (e.g. column is allowed to have `NULL` value). Select at least 1 column that is a primary key (must be non-`NULL`, unique in value). These are usually called something-`id`ish. Then click \"Continue\". Wait for the table creation and click \"Import Data\".\n",
    "\n",
    "On the next page, finally import the data by clicking the button \"Import\", the structure  and dataset is filled from the previous step. In case of an import error, set the separator according to your CSV.\n",
    "\n",
    "<img src=\".help/4_import_data.png\" style=\"max-width: 1024\" alt=\"\" />\n",
    "\n",
    "## 2 Create Subset\n",
    "\n",
    "Now that you have uploaded your dataset, it is time to create a meaningful subset that can be used for analysis. Select the columns and use at least 1 filter condition and 1 sorting condition. Click \"Create\" when you want to create the subset.\n",
    "\n",
    "<img src=\".help/5_create_subset.png\" style=\"max-width: 1024\" alt=\"\" />\n",
    "\n",
    "Finally, mark your subset to be visible in the UI by clicking the \"Star\" button. Click \"Get PID\" and create a PID similar to InvenioRDM."
   ]
  },
  {
   "cell_type": "markdown",
   "id": "b959064cbbf05702",
   "metadata": {},
   "source": [
    "## 3 Get Data\n",
    "\n",
    "Install the dependencies from the requirements.txt file."
   ]
  },
  {
   "cell_type": "code",
   "execution_count": 1,
   "id": "6992ca0f-05d8-4cd4-9b54-d3e2d299b2be",
   "metadata": {},
   "outputs": [
    {
     "name": "stdout",
     "output_type": "stream",
     "text": [
      "Collecting dbrepo==1.7.3 (from -r requirements.txt (line 1))\n",
      "  Downloading dbrepo-1.7.3-py3-none-any.whl.metadata (17 kB)\n",
      "Requirement already satisfied: requests>=2.31 in c:\\users\\ajdin\\appdata\\local\\programs\\python\\python313\\lib\\site-packages (from dbrepo==1.7.3->-r requirements.txt (line 1)) (2.32.3)\n",
      "Collecting pika (from dbrepo==1.7.3->-r requirements.txt (line 1))\n",
      "  Downloading pika-1.3.2-py3-none-any.whl.metadata (13 kB)\n",
      "Collecting pydantic (from dbrepo==1.7.3->-r requirements.txt (line 1))\n",
      "  Downloading pydantic-2.11.3-py3-none-any.whl.metadata (65 kB)\n",
      "Collecting tuspy (from dbrepo==1.7.3->-r requirements.txt (line 1))\n",
      "  Downloading tuspy-1.1.0-py3-none-any.whl.metadata (4.2 kB)\n",
      "Requirement already satisfied: pandas in c:\\users\\ajdin\\appdata\\local\\programs\\python\\python313\\lib\\site-packages (from dbrepo==1.7.3->-r requirements.txt (line 1)) (2.2.3)\n",
      "Requirement already satisfied: charset-normalizer<4,>=2 in c:\\users\\ajdin\\appdata\\local\\programs\\python\\python313\\lib\\site-packages (from requests>=2.31->dbrepo==1.7.3->-r requirements.txt (line 1)) (3.4.0)\n",
      "Requirement already satisfied: idna<4,>=2.5 in c:\\users\\ajdin\\appdata\\local\\programs\\python\\python313\\lib\\site-packages (from requests>=2.31->dbrepo==1.7.3->-r requirements.txt (line 1)) (3.10)\n",
      "Requirement already satisfied: urllib3<3,>=1.21.1 in c:\\users\\ajdin\\appdata\\local\\programs\\python\\python313\\lib\\site-packages (from requests>=2.31->dbrepo==1.7.3->-r requirements.txt (line 1)) (2.2.3)\n",
      "Requirement already satisfied: certifi>=2017.4.17 in c:\\users\\ajdin\\appdata\\local\\programs\\python\\python313\\lib\\site-packages (from requests>=2.31->dbrepo==1.7.3->-r requirements.txt (line 1)) (2024.8.30)\n",
      "Requirement already satisfied: numpy>=1.26.0 in c:\\users\\ajdin\\appdata\\local\\programs\\python\\python313\\lib\\site-packages (from pandas->dbrepo==1.7.3->-r requirements.txt (line 1)) (2.1.3)\n",
      "Requirement already satisfied: python-dateutil>=2.8.2 in c:\\users\\ajdin\\appdata\\local\\programs\\python\\python313\\lib\\site-packages (from pandas->dbrepo==1.7.3->-r requirements.txt (line 1)) (2.9.0.post0)\n",
      "Requirement already satisfied: pytz>=2020.1 in c:\\users\\ajdin\\appdata\\local\\programs\\python\\python313\\lib\\site-packages (from pandas->dbrepo==1.7.3->-r requirements.txt (line 1)) (2024.2)\n",
      "Requirement already satisfied: tzdata>=2022.7 in c:\\users\\ajdin\\appdata\\local\\programs\\python\\python313\\lib\\site-packages (from pandas->dbrepo==1.7.3->-r requirements.txt (line 1)) (2024.2)\n",
      "Collecting annotated-types>=0.6.0 (from pydantic->dbrepo==1.7.3->-r requirements.txt (line 1))\n",
      "  Downloading annotated_types-0.7.0-py3-none-any.whl.metadata (15 kB)\n",
      "Collecting pydantic-core==2.33.1 (from pydantic->dbrepo==1.7.3->-r requirements.txt (line 1))\n",
      "  Downloading pydantic_core-2.33.1-cp313-cp313-win_amd64.whl.metadata (6.9 kB)\n",
      "Requirement already satisfied: typing-extensions>=4.12.2 in c:\\users\\ajdin\\appdata\\local\\programs\\python\\python313\\lib\\site-packages (from pydantic->dbrepo==1.7.3->-r requirements.txt (line 1)) (4.12.2)\n",
      "Collecting typing-inspection>=0.4.0 (from pydantic->dbrepo==1.7.3->-r requirements.txt (line 1))\n",
      "  Downloading typing_inspection-0.4.0-py3-none-any.whl.metadata (2.6 kB)\n",
      "Collecting tinydb>=3.5.0 (from tuspy->dbrepo==1.7.3->-r requirements.txt (line 1))\n",
      "  Downloading tinydb-4.8.2-py3-none-any.whl.metadata (6.7 kB)\n",
      "Collecting aiohttp>=3.6.2 (from tuspy->dbrepo==1.7.3->-r requirements.txt (line 1))\n",
      "  Downloading aiohttp-3.11.18-cp313-cp313-win_amd64.whl.metadata (8.0 kB)\n",
      "Collecting aiohappyeyeballs>=2.3.0 (from aiohttp>=3.6.2->tuspy->dbrepo==1.7.3->-r requirements.txt (line 1))\n",
      "  Downloading aiohappyeyeballs-2.6.1-py3-none-any.whl.metadata (5.9 kB)\n",
      "Collecting aiosignal>=1.1.2 (from aiohttp>=3.6.2->tuspy->dbrepo==1.7.3->-r requirements.txt (line 1))\n",
      "  Downloading aiosignal-1.3.2-py2.py3-none-any.whl.metadata (3.8 kB)\n",
      "Requirement already satisfied: attrs>=17.3.0 in c:\\users\\ajdin\\appdata\\local\\programs\\python\\python313\\lib\\site-packages (from aiohttp>=3.6.2->tuspy->dbrepo==1.7.3->-r requirements.txt (line 1)) (24.2.0)\n",
      "Collecting frozenlist>=1.1.1 (from aiohttp>=3.6.2->tuspy->dbrepo==1.7.3->-r requirements.txt (line 1))\n",
      "  Downloading frozenlist-1.6.0-cp313-cp313-win_amd64.whl.metadata (16 kB)\n",
      "Collecting multidict<7.0,>=4.5 (from aiohttp>=3.6.2->tuspy->dbrepo==1.7.3->-r requirements.txt (line 1))\n",
      "  Downloading multidict-6.4.3-cp313-cp313-win_amd64.whl.metadata (5.5 kB)\n",
      "Collecting propcache>=0.2.0 (from aiohttp>=3.6.2->tuspy->dbrepo==1.7.3->-r requirements.txt (line 1))\n",
      "  Downloading propcache-0.3.1-cp313-cp313-win_amd64.whl.metadata (11 kB)\n",
      "Collecting yarl<2.0,>=1.17.0 (from aiohttp>=3.6.2->tuspy->dbrepo==1.7.3->-r requirements.txt (line 1))\n",
      "  Downloading yarl-1.20.0-cp313-cp313-win_amd64.whl.metadata (74 kB)\n",
      "Requirement already satisfied: six>=1.5 in c:\\users\\ajdin\\appdata\\local\\programs\\python\\python313\\lib\\site-packages (from python-dateutil>=2.8.2->pandas->dbrepo==1.7.3->-r requirements.txt (line 1)) (1.16.0)\n",
      "Downloading dbrepo-1.7.3-py3-none-any.whl (31 kB)\n",
      "Downloading pika-1.3.2-py3-none-any.whl (155 kB)\n",
      "Downloading pydantic-2.11.3-py3-none-any.whl (443 kB)\n",
      "Downloading pydantic_core-2.33.1-cp313-cp313-win_amd64.whl (2.0 MB)\n",
      "   ---------------------------------------- 0.0/2.0 MB ? eta -:--:--\n",
      "   ---------------------------------------- 2.0/2.0 MB 18.6 MB/s eta 0:00:00\n",
      "Downloading tuspy-1.1.0-py3-none-any.whl (15 kB)\n",
      "Downloading aiohttp-3.11.18-cp313-cp313-win_amd64.whl (437 kB)\n",
      "Downloading annotated_types-0.7.0-py3-none-any.whl (13 kB)\n",
      "Downloading tinydb-4.8.2-py3-none-any.whl (24 kB)\n",
      "Downloading typing_inspection-0.4.0-py3-none-any.whl (14 kB)\n",
      "Downloading aiohappyeyeballs-2.6.1-py3-none-any.whl (15 kB)\n",
      "Downloading aiosignal-1.3.2-py2.py3-none-any.whl (7.6 kB)\n",
      "Downloading frozenlist-1.6.0-cp313-cp313-win_amd64.whl (119 kB)\n",
      "Downloading multidict-6.4.3-cp313-cp313-win_amd64.whl (38 kB)\n",
      "Downloading propcache-0.3.1-cp313-cp313-win_amd64.whl (44 kB)\n",
      "Downloading yarl-1.20.0-cp313-cp313-win_amd64.whl (92 kB)\n",
      "Installing collected packages: typing-inspection, tinydb, pydantic-core, propcache, pika, multidict, frozenlist, annotated-types, aiohappyeyeballs, yarl, pydantic, aiosignal, aiohttp, tuspy, dbrepo\n",
      "Successfully installed aiohappyeyeballs-2.6.1 aiohttp-3.11.18 aiosignal-1.3.2 annotated-types-0.7.0 dbrepo-1.7.3 frozenlist-1.6.0 multidict-6.4.3 pika-1.3.2 propcache-0.3.1 pydantic-2.11.3 pydantic-core-2.33.1 tinydb-4.8.2 tuspy-1.1.0 typing-inspection-0.4.0 yarl-1.20.0\n"
     ]
    },
    {
     "name": "stderr",
     "output_type": "stream",
     "text": [
      "\n",
      "[notice] A new release of pip is available: 24.2 -> 25.1\n",
      "[notice] To update, run: python.exe -m pip install --upgrade pip\n"
     ]
    }
   ],
   "source": [
    "!pip install -r requirements.txt"
   ]
  },
  {
   "cell_type": "markdown",
   "id": "fbb7f2a8ad465201",
   "metadata": {},
   "source": [
    "Get the data from your persisted subset by the PID:"
   ]
  },
  {
   "cell_type": "code",
   "execution_count": 5,
   "id": "b41b70d5c83f67d8",
   "metadata": {},
   "outputs": [],
   "source": [
    "from dbrepo.RestClient import RestClient\n",
    "client = RestClient(endpoint=\"https://test.dbrepo.tuwien.ac.at\", username=\"12433699\", password=\"Ajdina14+\")\n",
    "#df = client.get_identifier_data(identifier_id=\"7a647061-faf8-4c7d-9e1b-58432dd0aa22\")\n",
    "df_train = client.get_identifier_data(\n",
    "  identifier_id=\"d020b222-851a-45ad-a5ad-6b88fd77baf8\"\n",
    ")\n",
    "df_valid = client.get_identifier_data(identifier_id=\"6517a989-d4b2-4eb1-9909-278dde12521b\")\n",
    "df_test  = client.get_identifier_data(identifier_id=\"87e780fa-55bc-4156-8e7b-3c56633db625\")"
   ]
  },
  {
   "cell_type": "code",
   "execution_count": 6,
   "id": "5451ab98-38eb-4776-b104-6e7bf423d9d1",
   "metadata": {},
   "outputs": [
    {
     "name": "stdout",
     "output_type": "stream",
     "text": [
      "Train: (2152, 12)\n",
      "Valid: (461, 12)\n",
      "Test:  (462, 12)\n"
     ]
    }
   ],
   "source": [
    "print(\"Train:\", df_train.shape)\n",
    "print(\"Valid:\", df_valid.shape)\n",
    "print(\"Test: \", df_test.shape)\n"
   ]
  },
  {
   "cell_type": "code",
   "execution_count": 9,
   "id": "82f79359-911d-473a-8739-9e263c8088a8",
   "metadata": {},
   "outputs": [
    {
     "name": "stdout",
     "output_type": "stream",
     "text": [
      "set() set() set()\n"
     ]
    }
   ],
   "source": [
    "#check for overfitting\n",
    "# none of the actionnr in train should appear in valid/test\n",
    "common_tv = set(df_train['actionnr']).intersection(df_valid['actionnr'])\n",
    "common_tt = set(df_train['actionnr']).intersection(df_test['actionnr'])\n",
    "common_vt = set(df_valid['actionnr']).intersection(df_test['actionnr'])\n",
    "print(common_tv, common_tt, common_vt)  # each should be empty set()\n"
   ]
  },
  {
   "cell_type": "markdown",
   "id": "9e3de692-2487-4880-8661-8f02fbffd5b1",
   "metadata": {},
   "source": [
    "## Help!\n",
    "\n",
    "If you cannot login to the DBRepo Test Instance or have weird error messages you cannot figure out on your own, contact [martin.weise@tuwien.ac.at](mailto:martin.weise@tuwien.ac.at)."
   ]
  }
 ],
 "metadata": {
  "kernelspec": {
   "display_name": "Python 3 (ipykernel)",
   "language": "python",
   "name": "python3"
  },
  "language_info": {
   "codemirror_mode": {
    "name": "ipython",
    "version": 3
   },
   "file_extension": ".py",
   "mimetype": "text/x-python",
   "name": "python",
   "nbconvert_exporter": "python",
   "pygments_lexer": "ipython3",
   "version": "3.13.0"
  }
 },
 "nbformat": 4,
 "nbformat_minor": 5
}
